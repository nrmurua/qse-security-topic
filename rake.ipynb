{
 "cells": [
  {
   "cell_type": "code",
   "execution_count": 1,
   "metadata": {},
   "outputs": [
    {
     "name": "stderr",
     "output_type": "stream",
     "text": [
      "[nltk_data] Downloading package stopwords to /home/murua/nltk_data...\n",
      "[nltk_data]   Package stopwords is already up-to-date!\n",
      "[nltk_data] Downloading package punkt to /home/murua/nltk_data...\n",
      "[nltk_data]   Package punkt is already up-to-date!\n"
     ]
    },
    {
     "data": {
      "text/plain": [
       "True"
      ]
     },
     "execution_count": 1,
     "metadata": {},
     "output_type": "execute_result"
    }
   ],
   "source": [
    "import os\n",
    "from rake_nltk import Rake\n",
    "\n",
    "import nltk\n",
    "nltk.download('stopwords')\n",
    "\n",
    "import nltk\n",
    "nltk.download('punkt')"
   ]
  },
  {
   "cell_type": "code",
   "execution_count": 2,
   "metadata": {},
   "outputs": [],
   "source": [
    "# Set the directory path containing the text files\n",
    "directory = 'data_url'\n",
    "\n",
    "# Set the specific words to search for\n",
    "specific_words = ['software security',\n",
    "                  'cybersecurity',\n",
    "                  'infosec',\n",
    "                  'vulnerability management',\n",
    "                  'penetration testing',\n",
    "                  'secure coding',\n",
    "                  'network security',\n",
    "                  'data protection',\n",
    "                  'encryption',\n",
    "                  'threat detection',\n",
    "                  'incident response',\n",
    "                  'authentication',\n",
    "                  'authorization',\n",
    "                  'firewall',\n",
    "                  'security audit',\n",
    "                  'patch management',\n",
    "                  'secure development',\n",
    "                  'malware defense',\n",
    "                  'identity management',\n",
    "                  'security compliance',\n",
    "                  'risk assessment',\n",
    "                  'cloud security',\n",
    "                  'endpoint security',\n",
    "                  'web application security',\n",
    "                  'security awareness',\n",
    "                  'zero day exploits',\n",
    "                  'secure configuration',\n",
    "                  'security policies',\n",
    "                  'itsecurity',\n",
    "                  'secure software lifecycle',\n",
    "                  'confidentiality',\n",
    "                  'availability',\n",
    "                  'integrity',\n",
    "                  'attack vector']\n",
    "\n",
    "# Set the output file path\n",
    "output_file = 'keywords.txt'\n",
    "\n",
    "# Initialize the RAKE object\n",
    "r = Rake()\n",
    "\n"
   ]
  },
  {
   "cell_type": "code",
   "execution_count": 3,
   "metadata": {},
   "outputs": [],
   "source": [
    "# Iterate over the files in the directory\n",
    "for filename in os.listdir(directory):\n",
    "    file_path = os.path.join(directory, filename)\n",
    "    \n",
    "    # Check if the file is a text file\n",
    "    if filename.endswith('.txt'):\n",
    "        with open(file_path, 'r') as file:\n",
    "            content = file.read()\n",
    "            \n",
    "            # Extract keywords using RAKE\n",
    "            r.extract_keywords_from_text(content)\n",
    "            ranked_keywords = r.get_ranked_phrases()\n",
    "            \n",
    "            # Search for specific words in the ranked keywords\n",
    "            found_words = []\n",
    "            for word in specific_words:\n",
    "                for keyword in ranked_keywords:\n",
    "                    if word in keyword:\n",
    "                        found_words.append(keyword)\n",
    "            \n",
    "            # Write the output to the output file\n",
    "            if found_words:\n",
    "                with open(output_file, 'a') as output:\n",
    "                    output.write(f\"Source File: {filename}\\n\")\n",
    "                    output.write(\"Found Words:\\n\")\n",
    "                    for word in found_words:\n",
    "                        output.write(f\"- {word}\\n\")\n",
    "                    output.write('\\n')"
   ]
  }
 ],
 "metadata": {
  "kernelspec": {
   "display_name": "base",
   "language": "python",
   "name": "python3"
  },
  "language_info": {
   "codemirror_mode": {
    "name": "ipython",
    "version": 3
   },
   "file_extension": ".py",
   "mimetype": "text/x-python",
   "name": "python",
   "nbconvert_exporter": "python",
   "pygments_lexer": "ipython3",
   "version": "3.10.12"
  },
  "orig_nbformat": 4
 },
 "nbformat": 4,
 "nbformat_minor": 2
}
